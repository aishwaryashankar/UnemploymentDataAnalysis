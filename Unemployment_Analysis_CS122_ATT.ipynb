{
  "nbformat": 4,
  "nbformat_minor": 0,
  "metadata": {
    "colab": {
      "name": "Unemployment_Analysis_CS122_ATT.ipynb",
      "provenance": [],
      "collapsed_sections": []
    },
    "kernelspec": {
      "name": "python3",
      "display_name": "Python 3"
    },
    "language_info": {
      "name": "python"
    }
  },
  "cells": [
    {
      "cell_type": "markdown",
      "metadata": {
        "id": "-HbvWorfUFFU"
      },
      "source": [
        "## CS 122 Project - Team AT&T\n",
        "## Team Members: Aishwarya Shankar, Tyler Stewart, Aidan Kormanik\n",
        "## Topic: Analysis of US Unemployment Rates Over the Past Decade\n",
        "\n",
        "---\n",
        "\n",
        "\n",
        "\n",
        "\n",
        "\n"
      ]
    },
    {
      "cell_type": "markdown",
      "metadata": {
        "id": "VtypecaxOdmX"
      },
      "source": [
        "For our project, we conducted a thorough programmatic analysis of US unemployment data over the past decades to gain further insight into the issue and its effects on various demographics and to identify any visible trends."
      ]
    },
    {
      "cell_type": "code",
      "metadata": {
        "id": "atcLOCqxW0zg"
      },
      "source": [
        "import pandas as pd\n",
        "from enum import Enum\n",
        "from matplotlib import pyplot as plt\n",
        "%matplotlib inline\n",
        "import seaborn as sns\n",
        "\n",
        "countryUnemployment_url=\"https://raw.githubusercontent.com/apkormanik/CS122Project/main/unemployment_data_us.csv\"\n",
        "states_url = \"https://raw.githubusercontent.com/apkormanik/CS122Project/main/unemployment_data_us_state.csv\"\n",
        "county_url = \"https://raw.githubusercontent.com/apkormanik/CS122Project/main/output.csv\""
      ],
      "execution_count": null,
      "outputs": []
    },
    {
      "cell_type": "markdown",
      "metadata": {
        "id": "RDBE067IO3vE"
      },
      "source": [
        "1. Country dataset shows data from 2010 up to 2020 for various categories/demographics\n",
        "2. States Dataset shows January, February, and March 2020 unemployment data by state\n",
        "3. County dataset shows data from 1990 up to 2016 for various counties in each state"
      ]
    },
    {
      "cell_type": "markdown",
      "metadata": {
        "id": "3NFB0NQUPsjI"
      },
      "source": [
        "# 1"
      ]
    },
    {
      "cell_type": "code",
      "metadata": {
        "colab": {
          "base_uri": "https://localhost:8080/",
          "height": 424
        },
        "id": "ZN-6e_2iW724",
        "outputId": "b62cb4fd-4de4-4c5a-e5c1-b58fc33e5135"
      },
      "source": [
        "country = pd.read_csv(countryUnemployment_url)\n",
        "country"
      ],
      "execution_count": null,
      "outputs": [
        {
          "output_type": "execute_result",
          "data": {
            "text/html": [
              "<div>\n",
              "<style scoped>\n",
              "    .dataframe tbody tr th:only-of-type {\n",
              "        vertical-align: middle;\n",
              "    }\n",
              "\n",
              "    .dataframe tbody tr th {\n",
              "        vertical-align: top;\n",
              "    }\n",
              "\n",
              "    .dataframe thead th {\n",
              "        text-align: right;\n",
              "    }\n",
              "</style>\n",
              "<table border=\"1\" class=\"dataframe\">\n",
              "  <thead>\n",
              "    <tr style=\"text-align: right;\">\n",
              "      <th></th>\n",
              "      <th>Year</th>\n",
              "      <th>Month</th>\n",
              "      <th>Primary_School</th>\n",
              "      <th>Date</th>\n",
              "      <th>High_School</th>\n",
              "      <th>Associates_Degree</th>\n",
              "      <th>Professional_Degree</th>\n",
              "      <th>White</th>\n",
              "      <th>Black</th>\n",
              "      <th>Asian</th>\n",
              "      <th>Hispanic</th>\n",
              "      <th>Men</th>\n",
              "      <th>Women</th>\n",
              "    </tr>\n",
              "  </thead>\n",
              "  <tbody>\n",
              "    <tr>\n",
              "      <th>0</th>\n",
              "      <td>2010</td>\n",
              "      <td>Jan</td>\n",
              "      <td>15.3</td>\n",
              "      <td>Jan-2010</td>\n",
              "      <td>10.2</td>\n",
              "      <td>8.6</td>\n",
              "      <td>4.9</td>\n",
              "      <td>8.8</td>\n",
              "      <td>16.5</td>\n",
              "      <td>8.3</td>\n",
              "      <td>12.9</td>\n",
              "      <td>10.2</td>\n",
              "      <td>7.9</td>\n",
              "    </tr>\n",
              "    <tr>\n",
              "      <th>1</th>\n",
              "      <td>2011</td>\n",
              "      <td>Jan</td>\n",
              "      <td>14.3</td>\n",
              "      <td>Jan-2011</td>\n",
              "      <td>9.5</td>\n",
              "      <td>8.1</td>\n",
              "      <td>4.3</td>\n",
              "      <td>8.1</td>\n",
              "      <td>15.8</td>\n",
              "      <td>6.8</td>\n",
              "      <td>12.3</td>\n",
              "      <td>9.0</td>\n",
              "      <td>7.9</td>\n",
              "    </tr>\n",
              "    <tr>\n",
              "      <th>2</th>\n",
              "      <td>2012</td>\n",
              "      <td>Jan</td>\n",
              "      <td>13.0</td>\n",
              "      <td>Jan-2012</td>\n",
              "      <td>8.5</td>\n",
              "      <td>7.1</td>\n",
              "      <td>4.3</td>\n",
              "      <td>7.4</td>\n",
              "      <td>13.6</td>\n",
              "      <td>6.7</td>\n",
              "      <td>10.7</td>\n",
              "      <td>7.7</td>\n",
              "      <td>7.6</td>\n",
              "    </tr>\n",
              "    <tr>\n",
              "      <th>3</th>\n",
              "      <td>2013</td>\n",
              "      <td>Jan</td>\n",
              "      <td>12.0</td>\n",
              "      <td>Jan-2013</td>\n",
              "      <td>8.1</td>\n",
              "      <td>6.9</td>\n",
              "      <td>3.8</td>\n",
              "      <td>7.1</td>\n",
              "      <td>13.7</td>\n",
              "      <td>6.4</td>\n",
              "      <td>9.7</td>\n",
              "      <td>7.5</td>\n",
              "      <td>7.2</td>\n",
              "    </tr>\n",
              "    <tr>\n",
              "      <th>4</th>\n",
              "      <td>2014</td>\n",
              "      <td>Jan</td>\n",
              "      <td>9.4</td>\n",
              "      <td>Jan-2014</td>\n",
              "      <td>6.5</td>\n",
              "      <td>5.9</td>\n",
              "      <td>3.3</td>\n",
              "      <td>5.7</td>\n",
              "      <td>12.1</td>\n",
              "      <td>4.7</td>\n",
              "      <td>8.3</td>\n",
              "      <td>6.2</td>\n",
              "      <td>5.8</td>\n",
              "    </tr>\n",
              "    <tr>\n",
              "      <th>...</th>\n",
              "      <td>...</td>\n",
              "      <td>...</td>\n",
              "      <td>...</td>\n",
              "      <td>...</td>\n",
              "      <td>...</td>\n",
              "      <td>...</td>\n",
              "      <td>...</td>\n",
              "      <td>...</td>\n",
              "      <td>...</td>\n",
              "      <td>...</td>\n",
              "      <td>...</td>\n",
              "      <td>...</td>\n",
              "      <td>...</td>\n",
              "    </tr>\n",
              "    <tr>\n",
              "      <th>127</th>\n",
              "      <td>2016</td>\n",
              "      <td>Dec</td>\n",
              "      <td>7.5</td>\n",
              "      <td>Dec-2016</td>\n",
              "      <td>5.1</td>\n",
              "      <td>3.8</td>\n",
              "      <td>2.5</td>\n",
              "      <td>4.2</td>\n",
              "      <td>7.9</td>\n",
              "      <td>2.7</td>\n",
              "      <td>5.9</td>\n",
              "      <td>4.4</td>\n",
              "      <td>4.3</td>\n",
              "    </tr>\n",
              "    <tr>\n",
              "      <th>128</th>\n",
              "      <td>2017</td>\n",
              "      <td>Dec</td>\n",
              "      <td>6.2</td>\n",
              "      <td>Dec-2017</td>\n",
              "      <td>4.2</td>\n",
              "      <td>3.6</td>\n",
              "      <td>2.2</td>\n",
              "      <td>3.7</td>\n",
              "      <td>6.7</td>\n",
              "      <td>2.5</td>\n",
              "      <td>5.0</td>\n",
              "      <td>3.7</td>\n",
              "      <td>3.7</td>\n",
              "    </tr>\n",
              "    <tr>\n",
              "      <th>129</th>\n",
              "      <td>2018</td>\n",
              "      <td>Dec</td>\n",
              "      <td>5.8</td>\n",
              "      <td>Dec-2018</td>\n",
              "      <td>3.8</td>\n",
              "      <td>3.3</td>\n",
              "      <td>2.2</td>\n",
              "      <td>3.4</td>\n",
              "      <td>6.6</td>\n",
              "      <td>3.3</td>\n",
              "      <td>4.4</td>\n",
              "      <td>3.6</td>\n",
              "      <td>3.5</td>\n",
              "    </tr>\n",
              "    <tr>\n",
              "      <th>130</th>\n",
              "      <td>2019</td>\n",
              "      <td>Dec</td>\n",
              "      <td>5.2</td>\n",
              "      <td>Dec-2019</td>\n",
              "      <td>3.7</td>\n",
              "      <td>2.7</td>\n",
              "      <td>1.9</td>\n",
              "      <td>3.2</td>\n",
              "      <td>5.9</td>\n",
              "      <td>2.5</td>\n",
              "      <td>4.2</td>\n",
              "      <td>3.1</td>\n",
              "      <td>3.2</td>\n",
              "    </tr>\n",
              "    <tr>\n",
              "      <th>131</th>\n",
              "      <td>2020</td>\n",
              "      <td>Dec</td>\n",
              "      <td>NaN</td>\n",
              "      <td>Dec-2020</td>\n",
              "      <td>NaN</td>\n",
              "      <td>NaN</td>\n",
              "      <td>NaN</td>\n",
              "      <td>NaN</td>\n",
              "      <td>NaN</td>\n",
              "      <td>NaN</td>\n",
              "      <td>NaN</td>\n",
              "      <td>NaN</td>\n",
              "      <td>NaN</td>\n",
              "    </tr>\n",
              "  </tbody>\n",
              "</table>\n",
              "<p>132 rows × 13 columns</p>\n",
              "</div>"
            ],
            "text/plain": [
              "     Year Month  Primary_School      Date  ...  Asian  Hispanic   Men  Women\n",
              "0    2010   Jan            15.3  Jan-2010  ...    8.3      12.9  10.2    7.9\n",
              "1    2011   Jan            14.3  Jan-2011  ...    6.8      12.3   9.0    7.9\n",
              "2    2012   Jan            13.0  Jan-2012  ...    6.7      10.7   7.7    7.6\n",
              "3    2013   Jan            12.0  Jan-2013  ...    6.4       9.7   7.5    7.2\n",
              "4    2014   Jan             9.4  Jan-2014  ...    4.7       8.3   6.2    5.8\n",
              "..    ...   ...             ...       ...  ...    ...       ...   ...    ...\n",
              "127  2016   Dec             7.5  Dec-2016  ...    2.7       5.9   4.4    4.3\n",
              "128  2017   Dec             6.2  Dec-2017  ...    2.5       5.0   3.7    3.7\n",
              "129  2018   Dec             5.8  Dec-2018  ...    3.3       4.4   3.6    3.5\n",
              "130  2019   Dec             5.2  Dec-2019  ...    2.5       4.2   3.1    3.2\n",
              "131  2020   Dec             NaN  Dec-2020  ...    NaN       NaN   NaN    NaN\n",
              "\n",
              "[132 rows x 13 columns]"
            ]
          },
          "metadata": {},
          "execution_count": 2
        }
      ]
    },
    {
      "cell_type": "markdown",
      "metadata": {
        "id": "My9EHexPPw-x"
      },
      "source": [
        "# 2"
      ]
    },
    {
      "cell_type": "code",
      "metadata": {
        "id": "N5vxlgc4wDq2",
        "colab": {
          "base_uri": "https://localhost:8080/",
          "height": 424
        },
        "outputId": "b70e7f04-0df9-4b65-ded7-f3e5b46b4d4a"
      },
      "source": [
        "states = pd.read_csv(states_url)\n",
        "states"
      ],
      "execution_count": null,
      "outputs": [
        {
          "output_type": "execute_result",
          "data": {
            "text/html": [
              "<div>\n",
              "<style scoped>\n",
              "    .dataframe tbody tr th:only-of-type {\n",
              "        vertical-align: middle;\n",
              "    }\n",
              "\n",
              "    .dataframe tbody tr th {\n",
              "        vertical-align: top;\n",
              "    }\n",
              "\n",
              "    .dataframe thead th {\n",
              "        text-align: right;\n",
              "    }\n",
              "</style>\n",
              "<table border=\"1\" class=\"dataframe\">\n",
              "  <thead>\n",
              "    <tr style=\"text-align: right;\">\n",
              "      <th></th>\n",
              "      <th>State</th>\n",
              "      <th>Month</th>\n",
              "      <th>Unemployment_Rate</th>\n",
              "      <th>Date</th>\n",
              "    </tr>\n",
              "  </thead>\n",
              "  <tbody>\n",
              "    <tr>\n",
              "      <th>0</th>\n",
              "      <td>Alabama</td>\n",
              "      <td>Jan</td>\n",
              "      <td>2.7</td>\n",
              "      <td>Jan-2020</td>\n",
              "    </tr>\n",
              "    <tr>\n",
              "      <th>1</th>\n",
              "      <td>Alaska</td>\n",
              "      <td>Jan</td>\n",
              "      <td>6.0</td>\n",
              "      <td>Jan-2020</td>\n",
              "    </tr>\n",
              "    <tr>\n",
              "      <th>2</th>\n",
              "      <td>Arizona</td>\n",
              "      <td>Jan</td>\n",
              "      <td>4.5</td>\n",
              "      <td>Jan-2020</td>\n",
              "    </tr>\n",
              "    <tr>\n",
              "      <th>3</th>\n",
              "      <td>Arkansas</td>\n",
              "      <td>Jan</td>\n",
              "      <td>3.5</td>\n",
              "      <td>Jan-2020</td>\n",
              "    </tr>\n",
              "    <tr>\n",
              "      <th>4</th>\n",
              "      <td>California</td>\n",
              "      <td>Jan</td>\n",
              "      <td>3.9</td>\n",
              "      <td>Jan-2020</td>\n",
              "    </tr>\n",
              "    <tr>\n",
              "      <th>...</th>\n",
              "      <td>...</td>\n",
              "      <td>...</td>\n",
              "      <td>...</td>\n",
              "      <td>...</td>\n",
              "    </tr>\n",
              "    <tr>\n",
              "      <th>151</th>\n",
              "      <td>Washington</td>\n",
              "      <td>Mar</td>\n",
              "      <td>5.1</td>\n",
              "      <td>Mar-2020</td>\n",
              "    </tr>\n",
              "    <tr>\n",
              "      <th>152</th>\n",
              "      <td>West Virginia</td>\n",
              "      <td>Mar</td>\n",
              "      <td>6.1</td>\n",
              "      <td>Mar-2020</td>\n",
              "    </tr>\n",
              "    <tr>\n",
              "      <th>153</th>\n",
              "      <td>Wisconsin</td>\n",
              "      <td>Mar</td>\n",
              "      <td>3.4</td>\n",
              "      <td>Mar-2020</td>\n",
              "    </tr>\n",
              "    <tr>\n",
              "      <th>154</th>\n",
              "      <td>Wyoming</td>\n",
              "      <td>Mar</td>\n",
              "      <td>3.7</td>\n",
              "      <td>Mar-2020</td>\n",
              "    </tr>\n",
              "    <tr>\n",
              "      <th>155</th>\n",
              "      <td>Puerto Rico</td>\n",
              "      <td>Mar</td>\n",
              "      <td>NaN</td>\n",
              "      <td>Mar-2020</td>\n",
              "    </tr>\n",
              "  </tbody>\n",
              "</table>\n",
              "<p>156 rows × 4 columns</p>\n",
              "</div>"
            ],
            "text/plain": [
              "             State Month  Unemployment_Rate      Date\n",
              "0          Alabama   Jan                2.7  Jan-2020\n",
              "1           Alaska   Jan                6.0  Jan-2020\n",
              "2          Arizona   Jan                4.5  Jan-2020\n",
              "3         Arkansas   Jan                3.5  Jan-2020\n",
              "4       California   Jan                3.9  Jan-2020\n",
              "..             ...   ...                ...       ...\n",
              "151     Washington   Mar                5.1  Mar-2020\n",
              "152  West Virginia   Mar                6.1  Mar-2020\n",
              "153      Wisconsin   Mar                3.4  Mar-2020\n",
              "154        Wyoming   Mar                3.7  Mar-2020\n",
              "155    Puerto Rico   Mar                NaN  Mar-2020\n",
              "\n",
              "[156 rows x 4 columns]"
            ]
          },
          "metadata": {},
          "execution_count": 3
        }
      ]
    },
    {
      "cell_type": "markdown",
      "metadata": {
        "id": "NuIK6Tg0PyaC"
      },
      "source": [
        "# 3"
      ]
    },
    {
      "cell_type": "code",
      "metadata": {
        "id": "vgxanOe-1NY3",
        "colab": {
          "base_uri": "https://localhost:8080/",
          "height": 424
        },
        "outputId": "62d2b8f3-cbde-4f26-d8b3-992a4f2ab075"
      },
      "source": [
        "county = pd.read_csv(county_url)\n",
        "county"
      ],
      "execution_count": null,
      "outputs": [
        {
          "output_type": "execute_result",
          "data": {
            "text/html": [
              "<div>\n",
              "<style scoped>\n",
              "    .dataframe tbody tr th:only-of-type {\n",
              "        vertical-align: middle;\n",
              "    }\n",
              "\n",
              "    .dataframe tbody tr th {\n",
              "        vertical-align: top;\n",
              "    }\n",
              "\n",
              "    .dataframe thead th {\n",
              "        text-align: right;\n",
              "    }\n",
              "</style>\n",
              "<table border=\"1\" class=\"dataframe\">\n",
              "  <thead>\n",
              "    <tr style=\"text-align: right;\">\n",
              "      <th></th>\n",
              "      <th>Year</th>\n",
              "      <th>Month</th>\n",
              "      <th>State</th>\n",
              "      <th>County</th>\n",
              "      <th>Rate</th>\n",
              "    </tr>\n",
              "  </thead>\n",
              "  <tbody>\n",
              "    <tr>\n",
              "      <th>0</th>\n",
              "      <td>2015</td>\n",
              "      <td>February</td>\n",
              "      <td>Mississippi</td>\n",
              "      <td>Newton County</td>\n",
              "      <td>6.1</td>\n",
              "    </tr>\n",
              "    <tr>\n",
              "      <th>1</th>\n",
              "      <td>2015</td>\n",
              "      <td>February</td>\n",
              "      <td>Mississippi</td>\n",
              "      <td>Panola County</td>\n",
              "      <td>9.4</td>\n",
              "    </tr>\n",
              "    <tr>\n",
              "      <th>2</th>\n",
              "      <td>2015</td>\n",
              "      <td>February</td>\n",
              "      <td>Mississippi</td>\n",
              "      <td>Monroe County</td>\n",
              "      <td>7.9</td>\n",
              "    </tr>\n",
              "    <tr>\n",
              "      <th>3</th>\n",
              "      <td>2015</td>\n",
              "      <td>February</td>\n",
              "      <td>Mississippi</td>\n",
              "      <td>Hinds County</td>\n",
              "      <td>6.1</td>\n",
              "    </tr>\n",
              "    <tr>\n",
              "      <th>4</th>\n",
              "      <td>2015</td>\n",
              "      <td>February</td>\n",
              "      <td>Mississippi</td>\n",
              "      <td>Kemper County</td>\n",
              "      <td>10.6</td>\n",
              "    </tr>\n",
              "    <tr>\n",
              "      <th>...</th>\n",
              "      <td>...</td>\n",
              "      <td>...</td>\n",
              "      <td>...</td>\n",
              "      <td>...</td>\n",
              "      <td>...</td>\n",
              "    </tr>\n",
              "    <tr>\n",
              "      <th>885543</th>\n",
              "      <td>2009</td>\n",
              "      <td>November</td>\n",
              "      <td>Maine</td>\n",
              "      <td>Somerset County</td>\n",
              "      <td>10.5</td>\n",
              "    </tr>\n",
              "    <tr>\n",
              "      <th>885544</th>\n",
              "      <td>2009</td>\n",
              "      <td>November</td>\n",
              "      <td>Maine</td>\n",
              "      <td>Oxford County</td>\n",
              "      <td>10.5</td>\n",
              "    </tr>\n",
              "    <tr>\n",
              "      <th>885545</th>\n",
              "      <td>2009</td>\n",
              "      <td>November</td>\n",
              "      <td>Maine</td>\n",
              "      <td>Knox County</td>\n",
              "      <td>7.5</td>\n",
              "    </tr>\n",
              "    <tr>\n",
              "      <th>885546</th>\n",
              "      <td>2009</td>\n",
              "      <td>November</td>\n",
              "      <td>Maine</td>\n",
              "      <td>Piscataquis County</td>\n",
              "      <td>11.3</td>\n",
              "    </tr>\n",
              "    <tr>\n",
              "      <th>885547</th>\n",
              "      <td>2009</td>\n",
              "      <td>November</td>\n",
              "      <td>Maine</td>\n",
              "      <td>Aroostook County</td>\n",
              "      <td>9.0</td>\n",
              "    </tr>\n",
              "  </tbody>\n",
              "</table>\n",
              "<p>885548 rows × 5 columns</p>\n",
              "</div>"
            ],
            "text/plain": [
              "        Year     Month        State              County  Rate\n",
              "0       2015  February  Mississippi       Newton County   6.1\n",
              "1       2015  February  Mississippi       Panola County   9.4\n",
              "2       2015  February  Mississippi       Monroe County   7.9\n",
              "3       2015  February  Mississippi        Hinds County   6.1\n",
              "4       2015  February  Mississippi       Kemper County  10.6\n",
              "...      ...       ...          ...                 ...   ...\n",
              "885543  2009  November        Maine     Somerset County  10.5\n",
              "885544  2009  November        Maine       Oxford County  10.5\n",
              "885545  2009  November        Maine         Knox County   7.5\n",
              "885546  2009  November        Maine  Piscataquis County  11.3\n",
              "885547  2009  November        Maine    Aroostook County   9.0\n",
              "\n",
              "[885548 rows x 5 columns]"
            ]
          },
          "metadata": {},
          "execution_count": 4
        }
      ]
    },
    {
      "cell_type": "code",
      "metadata": {
        "colab": {
          "base_uri": "https://localhost:8080/"
        },
        "id": "9uffrFuMZ_Jk",
        "outputId": "a7da474f-8d5e-459e-ae96-e1c660931cf2"
      },
      "source": [
        "print(\"Rows:    \", len(country))\n",
        "print(\"Columns: \", len(country.columns))"
      ],
      "execution_count": null,
      "outputs": [
        {
          "output_type": "stream",
          "name": "stdout",
          "text": [
            "Rows:     132\n",
            "Columns:  13\n"
          ]
        }
      ]
    },
    {
      "cell_type": "code",
      "metadata": {
        "colab": {
          "base_uri": "https://localhost:8080/",
          "height": 424
        },
        "id": "BS-k8_5-W-u8",
        "outputId": "1615b3ba-c3f3-42d3-f597-e89d3ef39755"
      },
      "source": [
        "country.sort_values(by=['Year', 'Month'])"
      ],
      "execution_count": null,
      "outputs": [
        {
          "output_type": "execute_result",
          "data": {
            "text/html": [
              "<div>\n",
              "<style scoped>\n",
              "    .dataframe tbody tr th:only-of-type {\n",
              "        vertical-align: middle;\n",
              "    }\n",
              "\n",
              "    .dataframe tbody tr th {\n",
              "        vertical-align: top;\n",
              "    }\n",
              "\n",
              "    .dataframe thead th {\n",
              "        text-align: right;\n",
              "    }\n",
              "</style>\n",
              "<table border=\"1\" class=\"dataframe\">\n",
              "  <thead>\n",
              "    <tr style=\"text-align: right;\">\n",
              "      <th></th>\n",
              "      <th>Year</th>\n",
              "      <th>Month</th>\n",
              "      <th>Primary_School</th>\n",
              "      <th>Date</th>\n",
              "      <th>High_School</th>\n",
              "      <th>Associates_Degree</th>\n",
              "      <th>Professional_Degree</th>\n",
              "      <th>White</th>\n",
              "      <th>Black</th>\n",
              "      <th>Asian</th>\n",
              "      <th>Hispanic</th>\n",
              "      <th>Men</th>\n",
              "      <th>Women</th>\n",
              "    </tr>\n",
              "  </thead>\n",
              "  <tbody>\n",
              "    <tr>\n",
              "      <th>33</th>\n",
              "      <td>2010</td>\n",
              "      <td>Apr</td>\n",
              "      <td>14.7</td>\n",
              "      <td>Apr-2010</td>\n",
              "      <td>10.8</td>\n",
              "      <td>8.4</td>\n",
              "      <td>4.8</td>\n",
              "      <td>9.0</td>\n",
              "      <td>16.6</td>\n",
              "      <td>7.0</td>\n",
              "      <td>12.5</td>\n",
              "      <td>10.2</td>\n",
              "      <td>8.3</td>\n",
              "    </tr>\n",
              "    <tr>\n",
              "      <th>77</th>\n",
              "      <td>2010</td>\n",
              "      <td>Aug</td>\n",
              "      <td>14.1</td>\n",
              "      <td>Aug-2010</td>\n",
              "      <td>10.0</td>\n",
              "      <td>8.7</td>\n",
              "      <td>4.6</td>\n",
              "      <td>8.6</td>\n",
              "      <td>15.9</td>\n",
              "      <td>7.3</td>\n",
              "      <td>12.0</td>\n",
              "      <td>9.6</td>\n",
              "      <td>8.0</td>\n",
              "    </tr>\n",
              "    <tr>\n",
              "      <th>121</th>\n",
              "      <td>2010</td>\n",
              "      <td>Dec</td>\n",
              "      <td>15.0</td>\n",
              "      <td>Dec-2010</td>\n",
              "      <td>9.8</td>\n",
              "      <td>8.1</td>\n",
              "      <td>4.8</td>\n",
              "      <td>8.5</td>\n",
              "      <td>15.5</td>\n",
              "      <td>7.2</td>\n",
              "      <td>12.9</td>\n",
              "      <td>9.4</td>\n",
              "      <td>8.0</td>\n",
              "    </tr>\n",
              "    <tr>\n",
              "      <th>11</th>\n",
              "      <td>2010</td>\n",
              "      <td>Feb</td>\n",
              "      <td>15.8</td>\n",
              "      <td>Feb-2010</td>\n",
              "      <td>10.7</td>\n",
              "      <td>8.1</td>\n",
              "      <td>4.9</td>\n",
              "      <td>8.9</td>\n",
              "      <td>16.1</td>\n",
              "      <td>8.2</td>\n",
              "      <td>12.7</td>\n",
              "      <td>10.3</td>\n",
              "      <td>8.0</td>\n",
              "    </tr>\n",
              "    <tr>\n",
              "      <th>0</th>\n",
              "      <td>2010</td>\n",
              "      <td>Jan</td>\n",
              "      <td>15.3</td>\n",
              "      <td>Jan-2010</td>\n",
              "      <td>10.2</td>\n",
              "      <td>8.6</td>\n",
              "      <td>4.9</td>\n",
              "      <td>8.8</td>\n",
              "      <td>16.5</td>\n",
              "      <td>8.3</td>\n",
              "      <td>12.9</td>\n",
              "      <td>10.2</td>\n",
              "      <td>7.9</td>\n",
              "    </tr>\n",
              "    <tr>\n",
              "      <th>...</th>\n",
              "      <td>...</td>\n",
              "      <td>...</td>\n",
              "      <td>...</td>\n",
              "      <td>...</td>\n",
              "      <td>...</td>\n",
              "      <td>...</td>\n",
              "      <td>...</td>\n",
              "      <td>...</td>\n",
              "      <td>...</td>\n",
              "      <td>...</td>\n",
              "      <td>...</td>\n",
              "      <td>...</td>\n",
              "      <td>...</td>\n",
              "    </tr>\n",
              "    <tr>\n",
              "      <th>32</th>\n",
              "      <td>2020</td>\n",
              "      <td>Mar</td>\n",
              "      <td>6.8</td>\n",
              "      <td>Mar-2020</td>\n",
              "      <td>4.4</td>\n",
              "      <td>3.7</td>\n",
              "      <td>2.5</td>\n",
              "      <td>4.0</td>\n",
              "      <td>6.7</td>\n",
              "      <td>4.1</td>\n",
              "      <td>6.0</td>\n",
              "      <td>4.0</td>\n",
              "      <td>4.0</td>\n",
              "    </tr>\n",
              "    <tr>\n",
              "      <th>54</th>\n",
              "      <td>2020</td>\n",
              "      <td>May</td>\n",
              "      <td>NaN</td>\n",
              "      <td>May-2020</td>\n",
              "      <td>NaN</td>\n",
              "      <td>NaN</td>\n",
              "      <td>NaN</td>\n",
              "      <td>NaN</td>\n",
              "      <td>NaN</td>\n",
              "      <td>NaN</td>\n",
              "      <td>NaN</td>\n",
              "      <td>NaN</td>\n",
              "      <td>NaN</td>\n",
              "    </tr>\n",
              "    <tr>\n",
              "      <th>120</th>\n",
              "      <td>2020</td>\n",
              "      <td>Nov</td>\n",
              "      <td>NaN</td>\n",
              "      <td>Nov-2020</td>\n",
              "      <td>NaN</td>\n",
              "      <td>NaN</td>\n",
              "      <td>NaN</td>\n",
              "      <td>NaN</td>\n",
              "      <td>NaN</td>\n",
              "      <td>NaN</td>\n",
              "      <td>NaN</td>\n",
              "      <td>NaN</td>\n",
              "      <td>NaN</td>\n",
              "    </tr>\n",
              "    <tr>\n",
              "      <th>109</th>\n",
              "      <td>2020</td>\n",
              "      <td>Oct</td>\n",
              "      <td>NaN</td>\n",
              "      <td>Oct-2020</td>\n",
              "      <td>NaN</td>\n",
              "      <td>NaN</td>\n",
              "      <td>NaN</td>\n",
              "      <td>NaN</td>\n",
              "      <td>NaN</td>\n",
              "      <td>NaN</td>\n",
              "      <td>NaN</td>\n",
              "      <td>NaN</td>\n",
              "      <td>NaN</td>\n",
              "    </tr>\n",
              "    <tr>\n",
              "      <th>98</th>\n",
              "      <td>2020</td>\n",
              "      <td>Sep</td>\n",
              "      <td>NaN</td>\n",
              "      <td>Sep-2020</td>\n",
              "      <td>NaN</td>\n",
              "      <td>NaN</td>\n",
              "      <td>NaN</td>\n",
              "      <td>NaN</td>\n",
              "      <td>NaN</td>\n",
              "      <td>NaN</td>\n",
              "      <td>NaN</td>\n",
              "      <td>NaN</td>\n",
              "      <td>NaN</td>\n",
              "    </tr>\n",
              "  </tbody>\n",
              "</table>\n",
              "<p>132 rows × 13 columns</p>\n",
              "</div>"
            ],
            "text/plain": [
              "     Year Month  Primary_School      Date  ...  Asian  Hispanic   Men  Women\n",
              "33   2010   Apr            14.7  Apr-2010  ...    7.0      12.5  10.2    8.3\n",
              "77   2010   Aug            14.1  Aug-2010  ...    7.3      12.0   9.6    8.0\n",
              "121  2010   Dec            15.0  Dec-2010  ...    7.2      12.9   9.4    8.0\n",
              "11   2010   Feb            15.8  Feb-2010  ...    8.2      12.7  10.3    8.0\n",
              "0    2010   Jan            15.3  Jan-2010  ...    8.3      12.9  10.2    7.9\n",
              "..    ...   ...             ...       ...  ...    ...       ...   ...    ...\n",
              "32   2020   Mar             6.8  Mar-2020  ...    4.1       6.0   4.0    4.0\n",
              "54   2020   May             NaN  May-2020  ...    NaN       NaN   NaN    NaN\n",
              "120  2020   Nov             NaN  Nov-2020  ...    NaN       NaN   NaN    NaN\n",
              "109  2020   Oct             NaN  Oct-2020  ...    NaN       NaN   NaN    NaN\n",
              "98   2020   Sep             NaN  Sep-2020  ...    NaN       NaN   NaN    NaN\n",
              "\n",
              "[132 rows x 13 columns]"
            ]
          },
          "metadata": {},
          "execution_count": 6
        }
      ]
    },
    {
      "cell_type": "markdown",
      "metadata": {
        "id": "RS9SR9IMP21Q"
      },
      "source": [
        "Below is our Pandas analysis for 10 questions that we came up with."
      ]
    },
    {
      "cell_type": "markdown",
      "metadata": {
        "id": "9OdWe5Ylzm6w"
      },
      "source": [
        "## Q1: What's the Average unemployment rate per year?"
      ]
    },
    {
      "cell_type": "code",
      "metadata": {
        "id": "_yCqboSF1mE1",
        "colab": {
          "base_uri": "https://localhost:8080/"
        },
        "outputId": "336c7f66-75b4-4aa1-e0e5-0e414bde826a"
      },
      "source": [
        "# define a function that allows us to extract average unemployment per year from 2010 to 2020\n",
        "def averagePerYear(df):\n",
        "  Year = 2010\n",
        "  print(\"Averages:\")\n",
        "  while (Year <= 2020):\n",
        "    # extract data from year of interest using loc\n",
        "    saved = df.loc[df['Year'] == Year]\n",
        "    print(\"-----------\", Year, \"-----------\")\n",
        "    print (\"Primary School:      \", round(saved[\"Primary_School\"].mean(), 2), \"%\")\n",
        "    print (\"High School:         \", round(saved[\"High_School\"].mean(), 2), \"%\")\n",
        "    print (\"Associates Degree:   \", round(saved[\"Associates_Degree\"].mean(), 2), \"%\")\n",
        "    print (\"Professional Degree: \", round(saved[\"Professional_Degree\"].mean(), 2), \"%\")\n",
        "    print (\"White:               \", round(saved[\"White\"].mean(), 2), \"%\")\n",
        "    print (\"Black:               \", round(saved[\"Black\"].mean(), 2), \"%\")\n",
        "    print (\"Asian:               \", round(saved[\"Asian\"].mean(), 2), \"%\")\n",
        "    print (\"Hispanic:            \", round(saved[\"Hispanic\"].mean(), 2), \"%\")\n",
        "    print (\"Men:                 \", round(saved[\"Men\"].mean(), 2), \"%\")\n",
        "    print (\"Women:               \", round(saved[\"Women\"].mean(), 2), \"%\")\n",
        "    # increase year increment by 1\n",
        "    Year = Year + 1\n",
        "\n",
        "# print results\n",
        "averagePerYear(country)"
      ],
      "execution_count": null,
      "outputs": [
        {
          "output_type": "stream",
          "name": "stdout",
          "text": [
            "Averages:\n",
            "----------- 2010 -----------\n",
            "Primary School:       14.84 %\n",
            "High School:          10.29 %\n",
            "Associates Degree:    8.38 %\n",
            "Professional Degree:  4.71 %\n",
            "White:                8.72 %\n",
            "Black:                15.96 %\n",
            "Asian:                7.5 %\n",
            "Hispanic:             12.49 %\n",
            "Men:                  9.82 %\n",
            "Women:                8.03 %\n",
            "----------- 2011 -----------\n",
            "Primary School:       14.08 %\n",
            "High School:          9.43 %\n",
            "Associates Degree:    7.97 %\n",
            "Professional Degree:  4.31 %\n",
            "White:                7.93 %\n",
            "Black:                15.83 %\n",
            "Asian:                7.02 %\n",
            "Hispanic:             11.49 %\n",
            "Men:                  8.7 %\n",
            "Women:                7.92 %\n",
            "----------- 2012 -----------\n",
            "Primary School:       12.39 %\n",
            "High School:          8.31 %\n",
            "Associates Degree:    7.1 %\n",
            "Professional Degree:  4.03 %\n",
            "White:                7.19 %\n",
            "Black:                13.83 %\n",
            "Asian:                5.9 %\n",
            "Hispanic:             10.32 %\n",
            "Men:                  7.53 %\n",
            "Women:                7.34 %\n",
            "----------- 2013 -----------\n",
            "Primary School:       10.96 %\n",
            "High School:          7.51 %\n",
            "Associates Degree:    6.37 %\n",
            "Professional Degree:  3.7 %\n",
            "White:                6.51 %\n",
            "Black:                13.07 %\n",
            "Asian:                5.22 %\n",
            "Hispanic:             9.11 %\n",
            "Men:                  6.97 %\n",
            "Women:                6.53 %\n",
            "----------- 2014 -----------\n",
            "Primary School:       9.02 %\n",
            "High School:          6.01 %\n",
            "Associates Degree:    5.42 %\n",
            "Professional Degree:  3.17 %\n",
            "White:                5.3 %\n",
            "Black:                11.34 %\n",
            "Asian:                4.98 %\n",
            "Hispanic:             7.4 %\n",
            "Men:                  5.71 %\n",
            "Women:                5.59 %\n",
            "----------- 2015 -----------\n",
            "Primary School:       7.94 %\n",
            "High School:          5.44 %\n",
            "Associates Degree:    4.51 %\n",
            "Professional Degree:  2.57 %\n",
            "White:                4.58 %\n",
            "Black:                9.56 %\n",
            "Asian:                3.82 %\n",
            "Hispanic:             6.6 %\n",
            "Men:                  4.91 %\n",
            "Women:                4.78 %\n",
            "----------- 2016 -----------\n",
            "Primary School:       7.43 %\n",
            "High School:          5.19 %\n",
            "Associates Degree:    4.08 %\n",
            "Professional Degree:  2.51 %\n",
            "White:                4.28 %\n",
            "Black:                8.43 %\n",
            "Asian:                3.64 %\n",
            "Hispanic:             5.77 %\n",
            "Men:                  4.51 %\n",
            "Women:                4.41 %\n",
            "----------- 2017 -----------\n",
            "Primary School:       6.51 %\n",
            "High School:          4.65 %\n",
            "Associates Degree:    3.75 %\n",
            "Professional Degree:  2.32 %\n",
            "White:                3.81 %\n",
            "Black:                7.48 %\n",
            "Asian:                3.4 %\n",
            "Hispanic:             5.13 %\n",
            "Men:                  4.0 %\n",
            "Women:                3.97 %\n",
            "----------- 2018 -----------\n",
            "Primary School:       5.61 %\n",
            "High School:          4.04 %\n",
            "Associates Degree:    3.32 %\n",
            "Professional Degree:  2.12 %\n",
            "White:                3.46 %\n",
            "Black:                6.49 %\n",
            "Asian:                3.0 %\n",
            "Hispanic:             4.67 %\n",
            "Men:                  3.57 %\n",
            "Women:                3.52 %\n",
            "----------- 2019 -----------\n",
            "Primary School:       5.35 %\n",
            "High School:          3.66 %\n",
            "Associates Degree:    3.03 %\n",
            "Professional Degree:  2.09 %\n",
            "White:                3.28 %\n",
            "Black:                6.08 %\n",
            "Asian:                2.68 %\n",
            "Hispanic:             4.3 %\n",
            "Men:                  3.35 %\n",
            "Women:                3.28 %\n",
            "----------- 2020 -----------\n",
            "Primary School:       6.0 %\n",
            "High School:          3.93 %\n",
            "Associates Degree:    3.17 %\n",
            "Professional Degree:  2.13 %\n",
            "White:                3.4 %\n",
            "Black:                6.17 %\n",
            "Asian:                3.2 %\n",
            "Hispanic:             4.9 %\n",
            "Men:                  3.53 %\n",
            "Women:                3.43 %\n"
          ]
        }
      ]
    },
    {
      "cell_type": "markdown",
      "metadata": {
        "id": "ZxTo3FKlQZJR"
      },
      "source": [
        "Synopsis: There was a significant decrease in unemployment from the beginning to end of the decade for all demographics. We hypothesize this is due to the Great Recession caused by the housing boom of the 2000's. Black Americans were most affected by unemployment in the last decade, and Americans with professional degrees were least affected by unemployment. "
      ]
    },
    {
      "cell_type": "markdown",
      "metadata": {
        "id": "V9L8mo-123MI"
      },
      "source": [
        "## Q2: What's the average rate of unemployment per month?"
      ]
    },
    {
      "cell_type": "code",
      "metadata": {
        "colab": {
          "base_uri": "https://localhost:8080/"
        },
        "id": "ajIiWQmI0kGq",
        "outputId": "9a680a8c-b67e-4177-8aca-bcd71e7668ce"
      },
      "source": [
        "class Months(Enum):\n",
        "    Jan = 1\n",
        "    Feb = 2\n",
        "    Mar = 3\n",
        "    Apr = 4\n",
        "    May = 5\n",
        "    Jun = 6\n",
        "    Jul = 7\n",
        "    Aug = 8\n",
        "    Sep = 9\n",
        "    Oct = 10\n",
        "    Nov = 11\n",
        "    Dec = 12\n",
        "    def __str__(self):\n",
        "        return self.name\n",
        "\n",
        "def averagePerMonth(df):\n",
        "  print(\"Months:\")\n",
        "  for i in Months:\n",
        "    # extract month of interest using loc\n",
        "    saved = df.loc[df['Month'] == str(i)]\n",
        "    print(\"-----------\", i, \"-----------\")\n",
        "    print (\"Primary School:      \", round(saved[\"Primary_School\"].mean(), 2), \"%\")\n",
        "    print (\"High School:         \", round(saved[\"High_School\"].mean(), 2), \"%\")\n",
        "    print (\"Associates Degree:   \", round(saved[\"Associates_Degree\"].mean(), 2), \"%\")\n",
        "    print (\"Professional Degree: \", round(saved[\"Professional_Degree\"].mean(), 2), \"%\")\n",
        "    print (\"White:               \", round(saved[\"White\"].mean(), 2), \"%\")\n",
        "    print (\"Black:               \", round(saved[\"Black\"].mean(), 2), \"%\")\n",
        "    print (\"Asian:               \", round(saved[\"Asian\"].mean(), 2), \"%\")\n",
        "    print (\"Hispanic:            \", round(saved[\"Hispanic\"].mean(), 2), \"%\")\n",
        "    print (\"Men:                 \", round(saved[\"Men\"].mean(), 2), \"%\")\n",
        "    print (\"Women:               \", round(saved[\"Women\"].mean(), 2), \"%\")\n",
        "\n",
        "# print results    \n",
        "averagePerMonth(country)"
      ],
      "execution_count": null,
      "outputs": [
        {
          "output_type": "stream",
          "name": "stdout",
          "text": [
            "Months:\n",
            "----------- Jan -----------\n",
            "Primary School:       9.4 %\n",
            "High School:          6.41 %\n",
            "Associates Degree:    5.4 %\n",
            "Professional Degree:  3.17 %\n",
            "White:                5.5 %\n",
            "Black:                10.77 %\n",
            "Asian:                4.85 %\n",
            "Hispanic:             7.85 %\n",
            "Men:                  5.95 %\n",
            "Women:                5.52 %\n",
            "----------- Feb -----------\n",
            "Primary School:       9.42 %\n",
            "High School:          6.38 %\n",
            "Associates Degree:    5.32 %\n",
            "Professional Degree:  3.15 %\n",
            "White:                5.46 %\n",
            "Black:                10.65 %\n",
            "Asian:                4.79 %\n",
            "Hispanic:             7.69 %\n",
            "Men:                  5.88 %\n",
            "Women:                5.48 %\n",
            "----------- Mar -----------\n",
            "Primary School:       9.35 %\n",
            "High School:          6.43 %\n",
            "Associates Degree:    5.35 %\n",
            "Professional Degree:  3.15 %\n",
            "White:                5.52 %\n",
            "Black:                10.77 %\n",
            "Asian:                4.78 %\n",
            "Hispanic:             7.75 %\n",
            "Men:                  5.89 %\n",
            "Women:                5.53 %\n",
            "----------- Apr -----------\n",
            "Primary School:       9.57 %\n",
            "High School:          6.57 %\n",
            "Associates Degree:    5.47 %\n",
            "Professional Degree:  3.23 %\n",
            "White:                5.62 %\n",
            "Black:                11.07 %\n",
            "Asian:                4.66 %\n",
            "Hispanic:             7.79 %\n",
            "Men:                  6.04 %\n",
            "Women:                5.63 %\n",
            "----------- May -----------\n",
            "Primary School:       9.56 %\n",
            "High School:          6.58 %\n",
            "Associates Degree:    5.42 %\n",
            "Professional Degree:  3.18 %\n",
            "White:                5.57 %\n",
            "Black:                10.84 %\n",
            "Asian:                4.74 %\n",
            "Hispanic:             7.79 %\n",
            "Men:                  5.99 %\n",
            "Women:                5.6 %\n",
            "----------- Jun -----------\n",
            "Primary School:       9.42 %\n",
            "High School:          6.59 %\n",
            "Associates Degree:    5.39 %\n",
            "Professional Degree:  3.15 %\n",
            "White:                5.54 %\n",
            "Black:                10.92 %\n",
            "Asian:                4.57 %\n",
            "Hispanic:             7.79 %\n",
            "Men:                  5.94 %\n",
            "Women:                5.52 %\n",
            "----------- Jul -----------\n",
            "Primary School:       9.3 %\n",
            "High School:          6.4 %\n",
            "Associates Degree:    5.38 %\n",
            "Professional Degree:  3.13 %\n",
            "White:                5.46 %\n",
            "Black:                10.73 %\n",
            "Asian:                4.81 %\n",
            "Hispanic:             7.71 %\n",
            "Men:                  5.89 %\n",
            "Women:                5.49 %\n",
            "----------- Aug -----------\n",
            "Primary School:       9.28 %\n",
            "High School:          6.45 %\n",
            "Associates Degree:    5.38 %\n",
            "Professional Degree:  3.1 %\n",
            "White:                5.47 %\n",
            "Black:                10.71 %\n",
            "Asian:                4.72 %\n",
            "Hispanic:             7.62 %\n",
            "Men:                  5.88 %\n",
            "Women:                5.48 %\n",
            "----------- Sep -----------\n",
            "Primary School:       9.42 %\n",
            "High School:          6.3 %\n",
            "Associates Degree:    5.37 %\n",
            "Professional Degree:  3.06 %\n",
            "White:                5.39 %\n",
            "Black:                10.62 %\n",
            "Asian:                4.62 %\n",
            "Hispanic:             7.5 %\n",
            "Men:                  5.79 %\n",
            "Women:                5.43 %\n",
            "----------- Oct -----------\n",
            "Primary School:       9.19 %\n",
            "High School:          6.29 %\n",
            "Associates Degree:    5.24 %\n",
            "Professional Degree:  3.06 %\n",
            "White:                5.34 %\n",
            "Black:                10.43 %\n",
            "Asian:                4.58 %\n",
            "Hispanic:             7.5 %\n",
            "Men:                  5.7 %\n",
            "Women:                5.39 %\n",
            "----------- Nov -----------\n",
            "Primary School:       9.02 %\n",
            "High School:          6.17 %\n",
            "Associates Degree:    5.2 %\n",
            "Professional Degree:  3.11 %\n",
            "White:                5.34 %\n",
            "Black:                10.49 %\n",
            "Asian:                4.56 %\n",
            "Hispanic:             7.5 %\n",
            "Men:                  5.67 %\n",
            "Women:                5.39 %\n",
            "----------- Dec -----------\n",
            "Primary School:       9.0 %\n",
            "High School:          6.12 %\n",
            "Associates Degree:    5.13 %\n",
            "Professional Degree:  3.03 %\n",
            "White:                5.24 %\n",
            "Black:                10.3 %\n",
            "Asian:                4.44 %\n",
            "Hispanic:             7.4 %\n",
            "Men:                  5.55 %\n",
            "Women:                5.36 %\n"
          ]
        }
      ]
    },
    {
      "cell_type": "markdown",
      "metadata": {
        "id": "8YhlcjL-Qlz7"
      },
      "source": [
        "Synposis: Unemployment levels were fairly even on average throughout the year, averaging just above 6% per month (averaging across all demographics). The lowest unemployment levels occur later in the year, with the smallest unemployment levels being in December (6.157%). The highest unemployment levels occur in the spring, peaking in May (6.527%). "
      ]
    },
    {
      "cell_type": "markdown",
      "metadata": {
        "id": "LT9na4KHY9F1"
      },
      "source": [
        "## Q3: Does a specific region experience more unemployment?\n"
      ]
    },
    {
      "cell_type": "code",
      "metadata": {
        "colab": {
          "base_uri": "https://localhost:8080/",
          "height": 235
        },
        "id": "l7bYqlx3NinL",
        "outputId": "3c659d6e-f84a-4b64-a5e0-776aef88dd2b"
      },
      "source": [
        "# define each region by as a list of states \n",
        "pacific_nw = [\"Alaska\",\"Washington\",\"Oregon\",\"Idaho\",\"Montana\",\"Wyoming\",\"California\"] #7 states\n",
        "southwest = [\"Nevada\",\"Arizona\",\"Utah\",\"New Mexico\",\"Texas\",\"Colorado\"] #6 states\n",
        "midwest = [\"North Dakota\",\"South Dakota\",\"Nebraska\",\"Kansas\",\"Oklahoma\",\"Minnesota\",\"Wisconsin\",\"Michigan\",\"Ohio\",\"Missouri\",\"Iowa\",\"Indiana\",\"Illinois\"] #13 states\n",
        "southern = [\"Arkansas\",\"Louisiana\",\"Alabama\",\"Mississippi\",\"Georgia\",\"Florida\",\"South Carolina\",\"North Carolina\",\"Kentucky\",\"Tennessee\",\"Virginia\",\"Maryland\",\"West Virginia\",\"Delaware\"] #14 states\n",
        "new_england = [\"Maine\",\"New Hampshire\",\"New York\",\"Vermont\",\"Massachusetts\",\"Connecticut\",\"Rhode Island\",\"Pennsylvania\",\"New Jersey\"] #9 states\n",
        "islands = [\"Hawaii\"] #1 state\n",
        "\n",
        "# define list of regions (for use in dataframe)\n",
        "regions = [\"Pacific Northwest\",\"Southwest\",\"Midwest\",\"South\",\"New England\",\"Islands\"]\n",
        "\n",
        "# extract data for each region by pulling out all data corresponding to state names in list \n",
        "pnw = states[states.State.isin(pacific_nw)]\n",
        "sw = states[states.State.isin(southwest)]\n",
        "mw = states[states.State.isin(midwest)]\n",
        "south = states[states.State.isin(southern)]\n",
        "ne = states[states.State.isin(new_england)]\n",
        "island = states[states.State.isin(islands)]\n",
        "\n",
        "# take mean of each extracted dataframe\n",
        "avg_rate_pnw = pnw.Unemployment_Rate.mean() \n",
        "avg_rate_sw = sw.Unemployment_Rate.mean() \n",
        "avg_rate_mw = mw.Unemployment_Rate.mean() \n",
        "avg_rate_south = south.Unemployment_Rate.mean() \n",
        "avg_rate_ne = ne.Unemployment_Rate.mean() \n",
        "avg_rate_island = island.Unemployment_Rate.mean() \n",
        "\n",
        "# create list of averages \n",
        "averages = [avg_rate_pnw, avg_rate_sw, avg_rate_mw, avg_rate_south, avg_rate_ne, avg_rate_island]\n",
        "\n",
        "# create dictionary for use in dataframe creation\n",
        "x = {\"Region\": regions,\"Average Unemployment\":averages}\n",
        "\n",
        "# create and display dataframe\n",
        "final = pd.DataFrame(data=x)\n",
        "final"
      ],
      "execution_count": null,
      "outputs": [
        {
          "output_type": "execute_result",
          "data": {
            "text/html": [
              "<div>\n",
              "<style scoped>\n",
              "    .dataframe tbody tr th:only-of-type {\n",
              "        vertical-align: middle;\n",
              "    }\n",
              "\n",
              "    .dataframe tbody tr th {\n",
              "        vertical-align: top;\n",
              "    }\n",
              "\n",
              "    .dataframe thead th {\n",
              "        text-align: right;\n",
              "    }\n",
              "</style>\n",
              "<table border=\"1\" class=\"dataframe\">\n",
              "  <thead>\n",
              "    <tr style=\"text-align: right;\">\n",
              "      <th></th>\n",
              "      <th>Region</th>\n",
              "      <th>Average Unemployment</th>\n",
              "    </tr>\n",
              "  </thead>\n",
              "  <tbody>\n",
              "    <tr>\n",
              "      <th>0</th>\n",
              "      <td>Pacific Northwest</td>\n",
              "      <td>4.104762</td>\n",
              "    </tr>\n",
              "    <tr>\n",
              "      <th>1</th>\n",
              "      <td>Southwest</td>\n",
              "      <td>4.077778</td>\n",
              "    </tr>\n",
              "    <tr>\n",
              "      <th>2</th>\n",
              "      <td>Midwest</td>\n",
              "      <td>3.515385</td>\n",
              "    </tr>\n",
              "    <tr>\n",
              "      <th>3</th>\n",
              "      <td>South</td>\n",
              "      <td>3.866667</td>\n",
              "    </tr>\n",
              "    <tr>\n",
              "      <th>4</th>\n",
              "      <td>New England</td>\n",
              "      <td>3.555556</td>\n",
              "    </tr>\n",
              "    <tr>\n",
              "      <th>5</th>\n",
              "      <td>Islands</td>\n",
              "      <td>2.666667</td>\n",
              "    </tr>\n",
              "  </tbody>\n",
              "</table>\n",
              "</div>"
            ],
            "text/plain": [
              "              Region  Average Unemployment\n",
              "0  Pacific Northwest              4.104762\n",
              "1          Southwest              4.077778\n",
              "2            Midwest              3.515385\n",
              "3              South              3.866667\n",
              "4        New England              3.555556\n",
              "5            Islands              2.666667"
            ]
          },
          "metadata": {},
          "execution_count": 120
        }
      ]
    },
    {
      "cell_type": "code",
      "metadata": {
        "colab": {
          "base_uri": "https://localhost:8080/",
          "height": 385
        },
        "id": "6We2f7TBgpmm",
        "outputId": "a3d896e2-d4d8-4efa-8211-d2f0baaa4043"
      },
      "source": [
        "import seaborn as sns\n",
        "import matplotlib.pyplot as plt\n",
        "\n",
        "sns.catplot(data=final,x=\"Average Unemployment\",y=\"Region\",kind=\"bar\")\n",
        "plt.title(\"Average Unemployment Rate by US Region\");"
      ],
      "execution_count": null,
      "outputs": [
        {
          "output_type": "display_data",
          "data": {
            "image/png": "[encoded data removed]",
            "text/plain": [
              "<Figure size 360x360 with 1 Axes>"
            ]
          },
          "metadata": {
            "needs_background": "light"
          }
        }
      ]
    },
    {
      "cell_type": "markdown",
      "metadata": {
        "id": "btji3OWcYanK"
      },
      "source": [
        "The Pacific Northwest experienced the most unemployment from January 2010 to March 2020, whereas Hawaii experienced the least. If we were to look at a bigger region, the Midwest experienced the second least amount of unemployment in this time frame, followed very closely by New England. "
      ]
    },
    {
      "cell_type": "markdown",
      "metadata": {
        "id": "30pcJdMS_LZY"
      },
      "source": [
        "## Q4: What is the percentage change in unemployment rates for people holding different education levels from 2010 to 2020 ?"
      ]
    },
    {
      "cell_type": "code",
      "metadata": {
        "colab": {
          "base_uri": "https://localhost:8080/"
        },
        "id": "nz7uRBya_Tfs",
        "outputId": "aaa1ec47-9388-492b-c2ee-31e1c91e3a56"
      },
      "source": [
        "# extract data using loc corresponding to each education level \n",
        "# calculate percent decrease for each level \n",
        "# print results\n",
        "\n",
        "# Primary School\n",
        "start = country.loc[country[\"Date\"]==\"Apr-2010\"]['Primary_School'].values[0]\n",
        "end = country.loc[country[\"Date\"]==\"Mar-2020\"]['Primary_School'].values[0]\n",
        "percent_decrease = ((end-start)/start)*100\n",
        "print(\"Unemployment Percentage Change for Primary School Education Holders from 2010 to 2020: \",percent_decrease,\"%\")\n",
        "print(\"\\n\")\n",
        "\n",
        "# High School\n",
        "start = country.loc[country[\"Date\"]==\"Apr-2010\"]['High_School'].values[0]\n",
        "end = country.loc[country[\"Date\"]==\"Mar-2020\"]['High_School'].values[0]\n",
        "percent_decrease = ((end-start)/start)*100\n",
        "print(\"Unemployment Percentage Change for High School Education Holders from 2010 to 2020: \",percent_decrease,\"%\")\n",
        "print(\"\\n\")\n",
        "\n",
        "# Associates Degree\n",
        "start = country.loc[country[\"Date\"]==\"Apr-2010\"]['Associates_Degree'].values[0]\n",
        "end = country.loc[country[\"Date\"]==\"Mar-2020\"]['Associates_Degree'].values[0]\n",
        "percent_decrease = ((end-start)/start)*100\n",
        "print(\"Unemployment Percentage Change for Associate Degree Holders from 2010 to 2020: \",percent_decrease,\"%\")\n",
        "print(\"\\n\")\n",
        "\n",
        "# Professional Degree\n",
        "start = country.loc[country[\"Date\"]==\"Apr-2010\"]['Professional_Degree'].values[0]\n",
        "end = country.loc[country[\"Date\"]==\"Mar-2020\"]['Professional_Degree'].values[0]\n",
        "percent_decrease = ((end-start)/start)*100\n",
        "print(\"Unemployment Percentage Change for Professional Degree Holders from 2010 to 2020: \",percent_decrease,\"%\")"
      ],
      "execution_count": null,
      "outputs": [
        {
          "output_type": "stream",
          "name": "stdout",
          "text": [
            "Unemployment Percentage Change for Primary School Education Holders from 2010 to 2020:  -53.74149659863946 %\n",
            "\n",
            "\n",
            "Unemployment Percentage Change for High School Education Holders from 2010 to 2020:  -59.25925925925925 %\n",
            "\n",
            "\n",
            "Unemployment Percentage Change for Associate Degree Holders from 2010 to 2020:  -55.952380952380956 %\n",
            "\n",
            "\n",
            "Unemployment Percentage Change for Professional Degree Holders from 2010 to 2020:  -47.916666666666664 %\n"
          ]
        }
      ]
    },
    {
      "cell_type": "markdown",
      "metadata": {
        "id": "NwU9UtXH27pL"
      },
      "source": [
        "Those with a high school education experienced the highest change in unemployment from the beginning to end of the decade, while those with professional degrees experienced the least. This is unsurprising, since those with a high school education experienced unemployment at a rate over 10% in 2010, while those with a professional degree were unemployed at about half that rate in 2010 (4.71%)."
      ]
    },
    {
      "cell_type": "markdown",
      "metadata": {
        "id": "izJJ4qW00qyV"
      },
      "source": [
        "# Q5: Does having a higher level of education mean that there's less of a chance of unemployment?"
      ]
    },
    {
      "cell_type": "code",
      "metadata": {
        "colab": {
          "base_uri": "https://localhost:8080/"
        },
        "id": "YKUab95ws2o_",
        "outputId": "eb3b7f33-5bb0-43e4-e5f5-40a6d09cb1ed"
      },
      "source": [
        "# define a function that takes in a dataframe \n",
        "# function calculates mean of rates per education level \n",
        "\n",
        "def averageEducation(df):\n",
        "  print(\"Education Rates:\")\n",
        "  print (\"Primary School:      \", round(df[\"Primary_School\"].mean(), 2), \"%\")\n",
        "  print (\"High School:         \", round(df[\"High_School\"].mean(), 2), \"%\")\n",
        "  print (\"Associates Degree:   \", round(df[\"Associates_Degree\"].mean(), 2), \"%\")\n",
        "  print (\"Professional Degree: \", round(df[\"Professional_Degree\"].mean(), 2), \"%\")\n",
        "averageEducation(country)"
      ],
      "execution_count": null,
      "outputs": [
        {
          "output_type": "stream",
          "name": "stdout",
          "text": [
            "Education Rates:\n",
            "Primary School:       9.33 %\n",
            "High School:          6.39 %\n",
            "Associates Degree:    5.34 %\n",
            "Professional Degree:  3.13 %\n"
          ]
        }
      ]
    },
    {
      "cell_type": "markdown",
      "metadata": {
        "id": "NJauvB34Qv2M"
      },
      "source": [
        "Having a higher level of education seems to make it less likely that you will be unemployed."
      ]
    },
    {
      "cell_type": "markdown",
      "metadata": {
        "id": "u1P_L3VG9Wdb"
      },
      "source": [
        "## Q6 Which ethnicity seems to experience more unemployment ?"
      ]
    },
    {
      "cell_type": "code",
      "metadata": {
        "colab": {
          "base_uri": "https://localhost:8080/",
          "height": 175
        },
        "id": "H_jYkZJ4ZrBN",
        "outputId": "828081f1-67b7-45c6-fe5f-79e0e8eeb729"
      },
      "source": [
        "# Which ethnicity seems to experience more unemployment?\n",
        "\n",
        "# extract unemployment rate data for the four ethnicities by using iloc \n",
        "people = country.iloc[:,7:11]\n",
        "\n",
        "# calculate average and set to a dataframe\n",
        "avg = people.mean().to_frame(name = \"Unemployment_Rate\")\n",
        "\n",
        "# display results\n",
        "avg"
      ],
      "execution_count": null,
      "outputs": [
        {
          "output_type": "execute_result",
          "data": {
            "text/html": [
              "<div>\n",
              "<style scoped>\n",
              "    .dataframe tbody tr th:only-of-type {\n",
              "        vertical-align: middle;\n",
              "    }\n",
              "\n",
              "    .dataframe tbody tr th {\n",
              "        vertical-align: top;\n",
              "    }\n",
              "\n",
              "    .dataframe thead th {\n",
              "        text-align: right;\n",
              "    }\n",
              "</style>\n",
              "<table border=\"1\" class=\"dataframe\">\n",
              "  <thead>\n",
              "    <tr style=\"text-align: right;\">\n",
              "      <th></th>\n",
              "      <th>Unemployment_Rate</th>\n",
              "    </tr>\n",
              "  </thead>\n",
              "  <tbody>\n",
              "    <tr>\n",
              "      <th>White</th>\n",
              "      <td>5.455285</td>\n",
              "    </tr>\n",
              "    <tr>\n",
              "      <th>Black</th>\n",
              "      <td>10.692683</td>\n",
              "    </tr>\n",
              "    <tr>\n",
              "      <th>Asian</th>\n",
              "      <td>4.679675</td>\n",
              "    </tr>\n",
              "    <tr>\n",
              "      <th>Hispanic</th>\n",
              "      <td>7.660163</td>\n",
              "    </tr>\n",
              "  </tbody>\n",
              "</table>\n",
              "</div>"
            ],
            "text/plain": [
              "          Unemployment_Rate\n",
              "White              5.455285\n",
              "Black             10.692683\n",
              "Asian              4.679675\n",
              "Hispanic           7.660163"
            ]
          },
          "metadata": {},
          "execution_count": 12
        }
      ]
    },
    {
      "cell_type": "code",
      "metadata": {
        "colab": {
          "base_uri": "https://localhost:8080/",
          "height": 312
        },
        "id": "ToaYAuQhh2zN",
        "outputId": "af3b50d5-a45f-4c42-a816-76821b7810a7"
      },
      "source": [
        "sns.lineplot(data=country, x=\"Year\", y=\"Black\", hue=\"Month\").set_title(\"Unemployment Rate for Black Americans Separated by Month\")"
      ],
      "execution_count": null,
      "outputs": [
        {
          "output_type": "execute_result",
          "data": {
            "text/plain": [
              "Text(0.5, 1.0, 'Unemployment Rate for Black Americans Separated by Month')"
            ]
          },
          "metadata": {},
          "execution_count": 13
        },
        {
          "output_type": "display_data",
          "data": {
            "image/png": "[encoded data removed]",
            "text/plain": [
              "<Figure size 432x288 with 1 Axes>"
            ]
          },
          "metadata": {
            "needs_background": "light"
          }
        }
      ]
    },
    {
      "cell_type": "code",
      "metadata": {
        "colab": {
          "base_uri": "https://localhost:8080/",
          "height": 415
        },
        "id": "A4ciHGIrhAc-",
        "outputId": "4c6a2c8e-1e01-409d-ef90-772bd87225d7"
      },
      "source": [
        "import seaborn as sns\n",
        "import matplotlib.pyplot as plt\n",
        "\n",
        "Ethnicities = ['White', 'Black', 'Asian', 'Hispanic']\n",
        "\n",
        "\n",
        "g = sns.catplot(data=avg,x=Ethnicities,y=\"Unemployment_Rate\",kind=\"bar\")\n",
        "g.fig.suptitle(\"Average Unemployment Rates (%) By Ethnicity\", y=1.05)"
      ],
      "execution_count": null,
      "outputs": [
        {
          "output_type": "execute_result",
          "data": {
            "text/plain": [
              "Text(0.5, 1.05, 'Average Unemployment Rates (%) By Ethnicity')"
            ]
          },
          "metadata": {},
          "execution_count": 14
        },
        {
          "output_type": "display_data",
          "data": {
            "image/png": "[encoded data removed]",
            "text/plain": [
              "<Figure size 360x360 with 1 Axes>"
            ]
          },
          "metadata": {
            "needs_background": "light"
          }
        }
      ]
    },
    {
      "cell_type": "markdown",
      "metadata": {
        "id": "9VIhiy1lRDDA"
      },
      "source": [
        "Black Americans were affected the most by unemployment in the last decade, whereas Asian Americans experienced the least."
      ]
    },
    {
      "cell_type": "markdown",
      "metadata": {
        "id": "N2WkLxUG_pVO"
      },
      "source": [
        "## Q7: In which month and year did each ethnicity experience the highest unemployment rates ?"
      ]
    },
    {
      "cell_type": "code",
      "metadata": {
        "id": "JQ-nVqpX_voF",
        "colab": {
          "base_uri": "https://localhost:8080/"
        },
        "outputId": "5fa4d67f-8340-41b4-b639-c085aa8aa457"
      },
      "source": [
        "# extract ethnicity data from dataframe \n",
        "# find max rate \n",
        "# print the corresponding date and rate \n",
        "\n",
        "white = country['White']\n",
        "white_max=white.max()\n",
        "white_max\n",
        "year = country.loc[country['White']==white_max]['Date'].values[0]\n",
        "print(\"People of White ethnic background experienced the maximum unemployment in: \", year, \".Unemployment rate was: \", white_max,\"%\")\n",
        "print(\"\\n\")\n",
        "\n",
        "black = country['Black']\n",
        "black_max=black.max()\n",
        "black_max\n",
        "year = country.loc[country['Black']==black_max]['Date'].values[0]\n",
        "print(\"People of Black ethnic background experienced the maximum unemployment in: \", year, \".Unemployment rate was: \", black_max,\"%\")\n",
        "print(\"\\n\")\n",
        "\n",
        "asian = country['Asian']\n",
        "asian_max=asian.max()\n",
        "asian_max\n",
        "year = country.loc[country['Asian']==asian_max]['Date'].values[0]\n",
        "print(\"People of Asian ethnic background experienced the maximum unemployment in: \", year,\".Unemployment rate was: \", asian_max,\"%\")\n",
        "print(\"\\n\")\n",
        "\n",
        "hispanic = country['Hispanic']\n",
        "hispanic_max=hispanic.max()\n",
        "hispanic_max\n",
        "year = country.loc[country['Hispanic']==hispanic_max]['Date'].values[0]\n",
        "print(\"People of Hispanic ethnic background experienced the maximum unemployment in: \", year,\".Unemployment rate was: \", hispanic_max,\"%\")\n",
        "\n",
        "print(\"\\n\\n\")"
      ],
      "execution_count": null,
      "outputs": [
        {
          "output_type": "stream",
          "name": "stdout",
          "text": [
            "People of White ethnic background experienced the maximum unemployment in:  Apr-2010 .Unemployment rate was:  9.0 %\n",
            "\n",
            "\n",
            "People of Black ethnic background experienced the maximum unemployment in:  Mar-2010 .Unemployment rate was:  16.8 %\n",
            "\n",
            "\n",
            "People of Asian ethnic background experienced the maximum unemployment in:  Jan-2010 .Unemployment rate was:  8.3 %\n",
            "\n",
            "\n",
            "People of Hispanic ethnic background experienced the maximum unemployment in:  Jan-2010 .Unemployment rate was:  12.9 %\n",
            "\n",
            "\n",
            "\n"
          ]
        }
      ]
    },
    {
      "cell_type": "code",
      "metadata": {
        "id": "NR0-PZHQAHZO",
        "colab": {
          "base_uri": "https://localhost:8080/",
          "height": 397
        },
        "outputId": "6275a40d-a1c1-4a5c-c98a-8f0e3463ea19"
      },
      "source": [
        "# VISUALIZATION\n",
        "\n",
        "# define data and dataframe\n",
        "data = [['White', white_max], ['Black', black_max], ['Asian', asian_max],['Hispanic',hispanic_max]]\n",
        "ethnicity_data = pd.DataFrame(data, columns = ['Ethnicity', 'Max_Unemployment'])\n",
        "ethnicity_data\n",
        "graph=sns.catplot(\n",
        "    y=\"Ethnicity\",\n",
        "    x=\"Max_Unemployment\",\n",
        "    data=ethnicity_data,\n",
        "    kind='bar',\n",
        "    order=['Asian','White','Hispanic','Black'],\n",
        "    color='darkblue'\n",
        ").set_axis_labels('Max Unemployment Rate', 'Ethnicity');\n",
        "graph.fig.suptitle(\"Max Unemployment Rates(%) By Ethnicity\", y=1.05);\n"
      ],
      "execution_count": null,
      "outputs": [
        {
          "output_type": "display_data",
          "data": {
            "image/png": "[encoded data removed]",
            "text/plain": [
              "<Figure size 360x360 with 1 Axes>"
            ]
          },
          "metadata": {
            "needs_background": "light"
          }
        }
      ]
    },
    {
      "cell_type": "markdown",
      "metadata": {
        "id": "HcnvPJQk35Yz"
      },
      "source": [
        "All ethnicities experienced the most unemployment in the early months of 2010, presumably as a result of the Great Recession."
      ]
    },
    {
      "cell_type": "markdown",
      "metadata": {
        "id": "kKxGRa0VJsjb"
      },
      "source": [
        "## Q8: Does gender affect unemployment over time? Were woman more likely to be unemployed 10 years ago as compared to today?"
      ]
    },
    {
      "cell_type": "code",
      "metadata": {
        "id": "USjCndwI90v9",
        "colab": {
          "base_uri": "https://localhost:8080/",
          "height": 771
        },
        "outputId": "78c5333b-a7d5-4774-f7f9-d332f79b5039"
      },
      "source": [
        "# define dataframe with year, month, and gender data\n",
        "gender = country.loc[:,[\"Year\",\"Month\",\"Men\",\"Women\"]]\n",
        "\n",
        "# group by gender and calculate mean\n",
        "men_by_year = gender.groupby(\"Year\").Men.agg(['mean'])\n",
        "women_by_year = gender.groupby(\"Year\").Women.agg(['mean'])\n",
        "\n",
        "# define data and concatenate the two frames \n",
        "dat = [men_by_year,women_by_year]\n",
        "final_gender = pd.concat(dat,keys = [\"Men\",\"Women\"])\n",
        "\n",
        "# display results\n",
        "final_gender"
      ],
      "execution_count": null,
      "outputs": [
        {
          "output_type": "execute_result",
          "data": {
            "text/html": [
              "<div>\n",
              "<style scoped>\n",
              "    .dataframe tbody tr th:only-of-type {\n",
              "        vertical-align: middle;\n",
              "    }\n",
              "\n",
              "    .dataframe tbody tr th {\n",
              "        vertical-align: top;\n",
              "    }\n",
              "\n",
              "    .dataframe thead th {\n",
              "        text-align: right;\n",
              "    }\n",
              "</style>\n",
              "<table border=\"1\" class=\"dataframe\">\n",
              "  <thead>\n",
              "    <tr style=\"text-align: right;\">\n",
              "      <th></th>\n",
              "      <th></th>\n",
              "      <th>mean</th>\n",
              "    </tr>\n",
              "    <tr>\n",
              "      <th></th>\n",
              "      <th>Year</th>\n",
              "      <th></th>\n",
              "    </tr>\n",
              "  </thead>\n",
              "  <tbody>\n",
              "    <tr>\n",
              "      <th rowspan=\"11\" valign=\"top\">Men</th>\n",
              "      <th>2010</th>\n",
              "      <td>9.816667</td>\n",
              "    </tr>\n",
              "    <tr>\n",
              "      <th>2011</th>\n",
              "      <td>8.700000</td>\n",
              "    </tr>\n",
              "    <tr>\n",
              "      <th>2012</th>\n",
              "      <td>7.525000</td>\n",
              "    </tr>\n",
              "    <tr>\n",
              "      <th>2013</th>\n",
              "      <td>6.975000</td>\n",
              "    </tr>\n",
              "    <tr>\n",
              "      <th>2014</th>\n",
              "      <td>5.708333</td>\n",
              "    </tr>\n",
              "    <tr>\n",
              "      <th>2015</th>\n",
              "      <td>4.908333</td>\n",
              "    </tr>\n",
              "    <tr>\n",
              "      <th>2016</th>\n",
              "      <td>4.508333</td>\n",
              "    </tr>\n",
              "    <tr>\n",
              "      <th>2017</th>\n",
              "      <td>4.000000</td>\n",
              "    </tr>\n",
              "    <tr>\n",
              "      <th>2018</th>\n",
              "      <td>3.575000</td>\n",
              "    </tr>\n",
              "    <tr>\n",
              "      <th>2019</th>\n",
              "      <td>3.350000</td>\n",
              "    </tr>\n",
              "    <tr>\n",
              "      <th>2020</th>\n",
              "      <td>3.533333</td>\n",
              "    </tr>\n",
              "    <tr>\n",
              "      <th rowspan=\"11\" valign=\"top\">Women</th>\n",
              "      <th>2010</th>\n",
              "      <td>8.033333</td>\n",
              "    </tr>\n",
              "    <tr>\n",
              "      <th>2011</th>\n",
              "      <td>7.916667</td>\n",
              "    </tr>\n",
              "    <tr>\n",
              "      <th>2012</th>\n",
              "      <td>7.341667</td>\n",
              "    </tr>\n",
              "    <tr>\n",
              "      <th>2013</th>\n",
              "      <td>6.533333</td>\n",
              "    </tr>\n",
              "    <tr>\n",
              "      <th>2014</th>\n",
              "      <td>5.591667</td>\n",
              "    </tr>\n",
              "    <tr>\n",
              "      <th>2015</th>\n",
              "      <td>4.775000</td>\n",
              "    </tr>\n",
              "    <tr>\n",
              "      <th>2016</th>\n",
              "      <td>4.408333</td>\n",
              "    </tr>\n",
              "    <tr>\n",
              "      <th>2017</th>\n",
              "      <td>3.966667</td>\n",
              "    </tr>\n",
              "    <tr>\n",
              "      <th>2018</th>\n",
              "      <td>3.525000</td>\n",
              "    </tr>\n",
              "    <tr>\n",
              "      <th>2019</th>\n",
              "      <td>3.275000</td>\n",
              "    </tr>\n",
              "    <tr>\n",
              "      <th>2020</th>\n",
              "      <td>3.433333</td>\n",
              "    </tr>\n",
              "  </tbody>\n",
              "</table>\n",
              "</div>"
            ],
            "text/plain": [
              "                mean\n",
              "      Year          \n",
              "Men   2010  9.816667\n",
              "      2011  8.700000\n",
              "      2012  7.525000\n",
              "      2013  6.975000\n",
              "      2014  5.708333\n",
              "      2015  4.908333\n",
              "      2016  4.508333\n",
              "      2017  4.000000\n",
              "      2018  3.575000\n",
              "      2019  3.350000\n",
              "      2020  3.533333\n",
              "Women 2010  8.033333\n",
              "      2011  7.916667\n",
              "      2012  7.341667\n",
              "      2013  6.533333\n",
              "      2014  5.591667\n",
              "      2015  4.775000\n",
              "      2016  4.408333\n",
              "      2017  3.966667\n",
              "      2018  3.525000\n",
              "      2019  3.275000\n",
              "      2020  3.433333"
            ]
          },
          "metadata": {},
          "execution_count": 18
        }
      ]
    },
    {
      "cell_type": "code",
      "metadata": {
        "id": "KOywFRAfhSYe"
      },
      "source": [
        "# create new dataframe, ignoring the month \n",
        "gender = country.loc[:,[\"Year\",\"Men\",\"Women\"]]\n",
        "\n",
        "# create a tidy dataframe that we can use in our seaborn visualization\n",
        "tidy_gender = gender.melt(id_vars=['Year'], var_name=\"Gender\", value_name=\"Average_Unemployment_Rate\")"
      ],
      "execution_count": null,
      "outputs": []
    },
    {
      "cell_type": "code",
      "metadata": {
        "id": "mFJF2JZyhVLV",
        "colab": {
          "base_uri": "https://localhost:8080/",
          "height": 284
        },
        "outputId": "ad76ff7c-494c-4241-802c-466fe88e25fe"
      },
      "source": [
        "g = sns.catplot(\n",
        "    data = tidy_gender,\n",
        "    x=\"Year\",\n",
        "    y=\"Average_Unemployment_Rate\",\n",
        "    hue=\"Gender\",\n",
        "    kind=\"point\",\n",
        "    aspect=3,\n",
        "    height=3.5\n",
        ")\n",
        "g.fig.suptitle(\"Gender Disparity in Unemployment from 2010 to 2020\")"
      ],
      "execution_count": null,
      "outputs": [
        {
          "output_type": "execute_result",
          "data": {
            "text/plain": [
              "Text(0.5, 0.98, 'Gender Disparity in Unemployment from 2010 to 2020')"
            ]
          },
          "metadata": {},
          "execution_count": 20
        },
        {
          "output_type": "display_data",
          "data": {
            "image/png": "[encoded data removed]",
            "text/plain": [
              "<Figure size 829.375x252 with 1 Axes>"
            ]
          },
          "metadata": {
            "needs_background": "light"
          }
        }
      ]
    },
    {
      "cell_type": "markdown",
      "metadata": {
        "id": "4nguoYJdJjCC"
      },
      "source": [
        "Men experienced a higher rate of unemployment in 2010. In 2020, the unemployment rate was about equal. \n",
        "\n",
        "Women were more likely to be unemployed a decade ago. However, so were the other demographics."
      ]
    },
    {
      "cell_type": "markdown",
      "metadata": {
        "id": "ouQRuu_y_8LV"
      },
      "source": [
        "## Q9: In which month and year was there the greatest disparity in unemployment between men and women ?"
      ]
    },
    {
      "cell_type": "code",
      "metadata": {
        "id": "5iULwAgh_-3m",
        "colab": {
          "base_uri": "https://localhost:8080/"
        },
        "outputId": "1b887991-c5a0-4e11-f666-d85707f6f4cc"
      },
      "source": [
        "# calculate each difference and find the absolute value\n",
        "diff_column = country[\"Men\"]-country[\"Women\"]\n",
        "diff_column = diff_column.abs()\n",
        "\n",
        "# create new column in dataframe title \"Difference\" with calculated differences\n",
        "country['Difference']=diff_column\n",
        "\n",
        "# find the maximum value in difference column \n",
        "max = diff_column.max()\n",
        "\n",
        "# extract date for the maximum value\n",
        "year = country.loc[country['Difference']==max]['Date'].values[0]\n",
        "\n",
        "# print results\n",
        "print(\"The year with the greatest disparity in unemployment between men and women was in\",year,\"where the difference was\",max,\"%\")\n",
        "\n",
        "print(\"\\n\\n\")"
      ],
      "execution_count": null,
      "outputs": [
        {
          "output_type": "stream",
          "name": "stdout",
          "text": [
            "The year with the greatest disparity in unemployment between men and women was in Feb-2010 where the difference was 2.3000000000000007 %\n",
            "\n",
            "\n",
            "\n"
          ]
        }
      ]
    },
    {
      "cell_type": "markdown",
      "metadata": {
        "id": "SStCAEu9Ss0Z"
      },
      "source": [
        "## Q10: What region of California experiences the most unemployment?"
      ]
    },
    {
      "cell_type": "code",
      "metadata": {
        "id": "n3aMly_W8JY-",
        "colab": {
          "base_uri": "https://localhost:8080/"
        },
        "outputId": "8396447b-0b49-4baf-e68e-63ca66cf6040"
      },
      "source": [
        "# create a dataframe with just county information for California\n",
        "california = county[county.State == \"California\"]\n",
        "\n",
        "# how many counties are in California\n",
        "california.County.nunique()"
      ],
      "execution_count": null,
      "outputs": [
        {
          "output_type": "execute_result",
          "data": {
            "text/plain": [
              "58"
            ]
          },
          "metadata": {},
          "execution_count": 22
        }
      ]
    },
    {
      "cell_type": "code",
      "metadata": {
        "id": "p0Kzu2cz98zE"
      },
      "source": [
        "# sections of california -- regions determined by 2020 US census\n",
        "\n",
        "# hard code which section each county belongs to \n",
        "Superior_California = [\"Butte County\",\"Colusa County\",\"El Dorado County\",\"Glenn County\",\"Lassen County\",\"Modoc County\",\"Nevada County\",\"Placer County\",\"Plumas County\",\"Sacramento County\",\"Shasta County\",\"Sierra County\",\"Siskiyou County\",\"Sutter County\",\"Tehama County\",\"Yolo County\",\"Yuba County\"]\n",
        "North_Coast = [\"Del Norte County\",\"Humboldt County\",\"Lake County\",\"Mendocino County\",\"Napa County\",\"Sonoma County\",\"Trinity County\"]\n",
        "Bay_Area = [\"Alameda County\",\"Contra Costa County\",\"Marin County\",\"San Francisco County\",\"San Mateo County\",\"Santa Clara County\",\"Solano County\"]\n",
        "Northern_San_Joaquin_Valley = [\"Alpine County\",\"Amador County\",\"Calaveras County\",\"Madera County\",\"Mariposa County\",\"Merced County\",\"Mono County\",\"San Joaquin County\",\"Stanislaus County\",\"Tuolumne County\"]\n",
        "Central_Coast = [\"Monterey County\",\"San Benito County\",\"San Luis Obispo County\",\"Santa Barbara County\",\"Santa Cruz County\",\"Ventura County\"]\n",
        "Southern_San_Joaquin_Valley = [\"Fresno County\",\"Inyo County\",\"Kern County\",\"Tulare County\"]\n",
        "Inland_Empire = [\"Riverside County\",\"San Bernardino County\"]\n",
        "Los_Angeles_County = [\"Los Angeles County\"]\n",
        "Orange = [\"Orange County\"]\n",
        "San_Diego_Imperial = [\"San Diego County\",\"Imperial County\"]\n",
        "\n",
        "# create list of sections\n",
        "sections = [Superior_California,North_Coast,Bay_Area,Northern_San_Joaquin_Valley,Central_Coast,Southern_San_Joaquin_Valley,Inland_Empire,Los_Angeles_County,Orange,San_Diego_Imperial]\n"
      ],
      "execution_count": null,
      "outputs": []
    },
    {
      "cell_type": "code",
      "metadata": {
        "id": "nUJHcBZFE6fO"
      },
      "source": [
        "# create a dictionary of the average rates of unemployment in each section (section names coded 1-10)\n",
        "sect_dict = {}\n",
        "num = 0\n",
        "for section in sections:\n",
        "  cali = county[county.State == \"California\"]\n",
        "  sect = cali[cali.County.isin(section)]\n",
        "  avg = sect.Rate.mean()\n",
        "  num += 1\n",
        "  sect_dict[str(num)]= round(avg,2)"
      ],
      "execution_count": null,
      "outputs": []
    },
    {
      "cell_type": "code",
      "metadata": {
        "id": "F1y_Eal-Tyjc"
      },
      "source": [
        "# translate section number into section name and create new dictionary \n",
        "names = {\"1\":\"Superior_California\",\"2\":\"North_Coast\",\"3\":\"Bay_Area\",\"4\":\"Northern_San_Joaquin_Valley\",\"5\":\"Central_Coast\",\"6\":\"Southern_San_Joaquin_Valley\",\"7\":\"Inland_Empire\",\"8\":\"Los_Angeles_County\",\"9\":\"Orange\",\"10\":\"San_Diego_Imperial\"}\n",
        "rate_dict={}\n",
        "for key in names:\n",
        "  rate_dict[names[key]]=sect_dict[key]"
      ],
      "execution_count": null,
      "outputs": []
    },
    {
      "cell_type": "code",
      "metadata": {
        "id": "5D1CWDzdWamp",
        "colab": {
          "base_uri": "https://localhost:8080/",
          "height": 363
        },
        "outputId": "7d2eb5ad-555d-413e-99d6-4ab0bacb8490"
      },
      "source": [
        "# translate into dataframe\n",
        "county_rate_df = pd.DataFrame.from_dict(rate_dict,orient =\"index\")\n",
        "county_rate_df"
      ],
      "execution_count": null,
      "outputs": [
        {
          "output_type": "execute_result",
          "data": {
            "text/html": [
              "<div>\n",
              "<style scoped>\n",
              "    .dataframe tbody tr th:only-of-type {\n",
              "        vertical-align: middle;\n",
              "    }\n",
              "\n",
              "    .dataframe tbody tr th {\n",
              "        vertical-align: top;\n",
              "    }\n",
              "\n",
              "    .dataframe thead th {\n",
              "        text-align: right;\n",
              "    }\n",
              "</style>\n",
              "<table border=\"1\" class=\"dataframe\">\n",
              "  <thead>\n",
              "    <tr style=\"text-align: right;\">\n",
              "      <th></th>\n",
              "      <th>0</th>\n",
              "    </tr>\n",
              "  </thead>\n",
              "  <tbody>\n",
              "    <tr>\n",
              "      <th>Superior_California</th>\n",
              "      <td>9.88</td>\n",
              "    </tr>\n",
              "    <tr>\n",
              "      <th>North_Coast</th>\n",
              "      <td>8.40</td>\n",
              "    </tr>\n",
              "    <tr>\n",
              "      <th>Bay_Area</th>\n",
              "      <td>5.47</td>\n",
              "    </tr>\n",
              "    <tr>\n",
              "      <th>Northern_San_Joaquin_Valley</th>\n",
              "      <td>9.90</td>\n",
              "    </tr>\n",
              "    <tr>\n",
              "      <th>Central_Coast</th>\n",
              "      <td>7.77</td>\n",
              "    </tr>\n",
              "    <tr>\n",
              "      <th>Southern_San_Joaquin_Valley</th>\n",
              "      <td>11.14</td>\n",
              "    </tr>\n",
              "    <tr>\n",
              "      <th>Inland_Empire</th>\n",
              "      <td>7.78</td>\n",
              "    </tr>\n",
              "    <tr>\n",
              "      <th>Los_Angeles_County</th>\n",
              "      <td>7.59</td>\n",
              "    </tr>\n",
              "    <tr>\n",
              "      <th>Orange</th>\n",
              "      <td>5.02</td>\n",
              "    </tr>\n",
              "    <tr>\n",
              "      <th>San_Diego_Imperial</th>\n",
              "      <td>14.45</td>\n",
              "    </tr>\n",
              "  </tbody>\n",
              "</table>\n",
              "</div>"
            ],
            "text/plain": [
              "                                 0\n",
              "Superior_California           9.88\n",
              "North_Coast                   8.40\n",
              "Bay_Area                      5.47\n",
              "Northern_San_Joaquin_Valley   9.90\n",
              "Central_Coast                 7.77\n",
              "Southern_San_Joaquin_Valley  11.14\n",
              "Inland_Empire                 7.78\n",
              "Los_Angeles_County            7.59\n",
              "Orange                        5.02\n",
              "San_Diego_Imperial           14.45"
            ]
          },
          "metadata": {},
          "execution_count": 26
        }
      ]
    },
    {
      "cell_type": "markdown",
      "metadata": {
        "id": "innRzJCwTbRr"
      },
      "source": [
        "The San Diego County and Imperial County Region experiences the most unemployment. Orange County experiences the least. The Bay Area also has a very low unemployment rate over this time period (1990-2016)."
      ]
    },
    {
      "cell_type": "markdown",
      "metadata": {
        "id": "Nz8Q-_2iOavD"
      },
      "source": [
        "## Machine Learning "
      ]
    },
    {
      "cell_type": "markdown",
      "metadata": {
        "id": "udAh-m9fSB6O"
      },
      "source": [
        "We decided to use machine learning to derive predictions for future unemployment rates for the different groups that we have present in our datasets. To do this, we used multiple linear regression, which is an ML algorithm used to predict a target numeric value using two or more other variables called predictors. \n",
        "\n",
        "A user can enter the month and year of their choice as well as the group they want to predict the unemployment rate for, and the algorithm outputs the predicted rate."
      ]
    },
    {
      "cell_type": "code",
      "metadata": {
        "id": "Q6O7zOMfHmxU",
        "colab": {
          "base_uri": "https://localhost:8080/",
          "height": 363
        },
        "outputId": "c583a305-64dc-4c0a-b880-e4f65b61caf5"
      },
      "source": [
        "import numpy as np\n",
        "import matplotlib.pyplot as plt\n",
        "from sklearn.linear_model import LinearRegression\n",
        "country[\"Date\"] = pd.to_datetime(country[\"Date\"])\n",
        "country_data = country.sort_values(by=['Date'])\n",
        "country_data = country_data.fillna(0.0)\n",
        "country_data['Index'] = np.arange(len(country_data))\n",
        "country_data.drop(country_data.tail(9).index,inplace=True)\n",
        "month = int(input(\"Enter a month (numeric): \"))\n",
        "year = int(input(\"Enter a year: \"))\n",
        "category = input(\"Enter a category (Options: Primary_School, High_School, Associates_Degree, Professional_Degree, White, Black, Asian, Hispanic, Men, Women): \")\n",
        "data = country_data[['Index',category]].to_numpy()\n",
        "X = np.array(data)[:,0].reshape(-1,1)\n",
        "Y = np.array(data)[:,1].reshape(-1,1)\n",
        "to_predict_x= [((year - 2010)*12) + (month -1)]\n",
        "to_predict_x= np.array(to_predict_x).reshape(-1,1)\n",
        "regsr=LinearRegression()\n",
        "regsr.fit(X,Y)\n",
        "predicted_y= regsr.predict(to_predict_x)\n",
        "predictedUnemployment = predicted_y[0][0]\n",
        "print(\"Predicted Unemployment: \", predictedUnemployment, \"%.\")\n",
        "\n",
        "m= regsr.coef_\n",
        "c= regsr.intercept_\n",
        "plt.title('Linear Regression Prediction')  \n",
        "plt.xlabel('Date (Entry #)')\n",
        "plt.ylabel('Unemployment %') \n",
        "plt.scatter(X,Y,color=\"blue\")\n",
        "new_y=[ m*i+c for i in np.append(X,to_predict_x)]\n",
        "new_y=np.array(new_y).reshape(-1,1)\n",
        "plt.plot(np.append(X,to_predict_x),new_y,color=\"red\")\n",
        "plt.show()"
      ],
      "execution_count": null,
      "outputs": [
        {
          "output_type": "stream",
          "name": "stdout",
          "text": [
            "Enter a month (numeric): 12\n",
            "Enter a year: 2021\n",
            "Enter a category (Options: Primary_School, High_School, Associates_Degree, Professional_Degree, White, Black, Asian, Hispanic, Men, Women): Associates_Degree\n",
            "Predicted Unemployment:  1.0872330637637413 %.\n"
          ]
        },
        {
          "output_type": "display_data",
          "data": {
            "image/png": "[encoded data removed]",
            "text/plain": [
              "<Figure size 432x288 with 1 Axes>"
            ]
          },
          "metadata": {
            "needs_background": "light"
          }
        }
      ]
    },
    {
      "cell_type": "markdown",
      "metadata": {
        "id": "F5qt9m1UTZl7"
      },
      "source": [
        "Note: Each date corresponds to a numbered entry. For example, Jan 2010 is entry 0 and Feb 2010 is entry 1. "
      ]
    }
  ]
}